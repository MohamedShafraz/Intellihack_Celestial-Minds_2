{
 "cells": [
  {
   "cell_type": "code",
   "execution_count": 21,
   "metadata": {},
   "outputs": [
    {
     "name": "stdout",
     "output_type": "stream",
     "text": [
      "NLU fallback: Intent could not be confidently determined.\n",
      "NLU fallback: Intent could not be confidently determined.\n"
     ]
    }
   ],
   "source": [
    "import numpy as np\n",
    "from sklearn.feature_extraction.text import TfidfVectorizer\n",
    "from sklearn.svm import SVC\n",
    "from sklearn.pipeline import make_pipeline\n",
    "from sklearn.model_selection import train_test_split\n",
    "\n",
    "# Sample data\n",
    "data = {\n",
    "    \"Greet\": [\"Hi\", \"How are you?\", \"Hello\"],\n",
    "    \"Farewell\": [\"Goodbye\", \"See you later\", \"Take care\"],\n",
    "    \"Inquiry\": [\"What's the weather like today?\", \"Can you tell me the time?\", \"Where is the nearest restaurant?\"]\n",
    "}\n",
    "\n",
    "# Preparing dataset\n",
    "texts = []\n",
    "labels = []\n",
    "for intent, examples in data.items():\n",
    "    for example in examples:\n",
    "        texts.append(example)\n",
    "        labels.append(intent)\n",
    "\n",
    "# Vectorizing and model training\n",
    "model = make_pipeline(TfidfVectorizer(), SVC(probability=True))\n",
    "train_texts, test_texts, train_labels, test_labels = train_test_split(texts, labels, test_size=0.2, random_state=42)\n",
    "model.fit(train_texts, train_labels)\n",
    "\n",
    "# Intent classification function\n",
    "def classify_intent(text):\n",
    "    prediction = model.predict([text])\n",
    "    confidence = np.max(model.predict_proba([text]))\n",
    "    if confidence > 0.7:\n",
    "        return f\"Intent: {prediction[0]}, Confidence: {confidence}\"\n",
    "    else:\n",
    "        return \"NLU fallback: Intent could not be confidently determined.\"\n",
    "\n",
    "# Example usage\n",
    "print(classify_intent(\"Hi there!\"))  # Test with a greeting\n",
    "print(classify_intent(\"Where can I find a good restaurant?\"))  # Test with an inquiry\n"
   ]
  }
 ],
 "metadata": {
  "kernelspec": {
   "display_name": "base",
   "language": "python",
   "name": "python3"
  },
  "language_info": {
   "codemirror_mode": {
    "name": "ipython",
    "version": 3
   },
   "file_extension": ".py",
   "mimetype": "text/x-python",
   "name": "python",
   "nbconvert_exporter": "python",
   "pygments_lexer": "ipython3",
   "version": "3.10.12"
  }
 },
 "nbformat": 4,
 "nbformat_minor": 2
}
